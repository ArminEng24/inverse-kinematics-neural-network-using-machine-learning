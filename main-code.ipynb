{
 "cells": [
  {
   "cell_type": "markdown",
   "metadata": {},
   "source": [
    "# Task 1: ANN Regression for robot arm control "
   ]
  },
  {
   "cell_type": "code",
   "execution_count": 2,
   "metadata": {},
   "outputs": [],
   "source": [
    "import numpy as np\n",
    "import matplotlib.pyplot as plt\n",
    "from sklearn.neural_network import MLPRegressor    # multilayer perceptron for regression"
   ]
  },
  {
   "cell_type": "code",
   "execution_count": 4,
   "metadata": {},
   "outputs": [],
   "source": [
    "def direct_kin_(joints, links, origin = [0, 0]):\n",
    "# implement the forward kinematics for a two joints planar manipulator\n",
    "# it's implemented externally so it can be used inside or outside the arm class\n",
    "    X = np.zeros(3)\n",
    "    Y = np.zeros(3)\n",
    "    X[0] = origin[0]\n",
    "    Y[0] = origin[1]\n",
    "    X[1] = X[0] + links[0] * np.cos(joints[0])\n",
    "    Y[1] = Y[0] + links[0] * np.sin(joints[0])\n",
    "    X[2] = X[1] + links[1] * np.cos(joints[0] + joints[1])\n",
    "    Y[2] = Y[1] + links[1] * np.sin(joints[0] + joints[1])\n",
    "    return [X, Y]   # return the coordinates of all link endpoints\n",
    "\n",
    "def deg2rad(degrees):\n",
    "# simple function for converting degrees to radiants\n",
    "    return degrees*np.pi/180"
   ]
  },
  {
   "cell_type": "code",
   "execution_count": 5,
   "metadata": {},
   "outputs": [],
   "source": [
    "class arm():\n",
    "### the arm class contains all the methods for defining a two joints planar manipulator,\n",
    "### and implement a neural network inverse kinematics solver for it\n",
    "\n",
    "    def __init__(self, links = [10, 10], origin = [0, 0], init = [0, 0]):\n",
    "    # class contructor, defining the basic attributes of the arm and initial configuration\n",
    "        self.link1 = links[0]\n",
    "        self.link2 = links[1]\n",
    "        self.x0 = origin[0]\n",
    "        self.y0 = origin[1]\n",
    "        self.joint1 = init[0]\n",
    "        self.joint2 = init[1]\n",
    "        self.direct_kin()\n",
    "\n",
    "    def direct_kin(self):\n",
    "    # this forward kinematic function calculate the Cartesian coordinates for the current joint configuration    \n",
    "        [self.X, self.Y] = direct_kin_([self.joint1, self.joint2], [self.link1, self.link2], [self.x0, self.y0])\n",
    "\n",
    "    def plot_arm(self):\n",
    "    # 2D plot of the current arm configuration\n",
    "        plt.plot([-20,20],[0,0],'k')\n",
    "        plt.plot(self.X, self.Y, linewidth=2.0)\n",
    "        plt.plot(self.X, self.Y, 'ro', linewidth=2.0)\n",
    "        sum_links = (self.link1 + self.link2) * 1.1\n",
    "        plt.axis([-sum_links, sum_links, -1, sum_links])\n",
    "        plt.axis('equal')\n",
    "        plt.show()\n",
    "\n",
    "    def create_data(self, ann, n_train, n_test, range1, range2):\n",
    "    # prepare the training and test sets for the neural network solver\n",
    "        self.inv_solver = ann\n",
    "        n_data = n_train + n_test\n",
    "        joint_space = np.hstack((np.random.uniform(range1[0], range1[1], size=(n_data, 1)), np.random.uniform(range2[0], range2[1], size=(n_data,1))))\n",
    "        cartesian_space = np.zeros(np.shape(joint_space))\n",
    "        for i in range(len(joint_space)):\n",
    "            ax, ay = direct_kin_(joint_space[i], [self.link1, self.link2])\n",
    "            cartesian_space[i] = [ax[2], ay[2]]\n",
    "        self.cart_train = np.asarray(cartesian_space[:n_train,:])\n",
    "        self.joint_train = np.asarray(joint_space[:n_train,:])\n",
    "        self.cart_test = np.asarray(cartesian_space[n_train:,:])\n",
    "        self.joint_test = np.asarray(joint_space[n_train:,:])\n",
    "            \n",
    "    def train_inv_kin(self):\n",
    "    # train the kinematic solver\n",
    "        self.inv_solver.fit(self.cart_train, self.joint_train)\n",
    "        score = self.inv_solver.score(self.cart_train, self.joint_train)\n",
    "        return(np.mean(score)) # return training accuracy\n",
    "\n",
    "    def test_inv_kin(self):\n",
    "    # test the kinematic solver\n",
    "        score = self.inv_solver.score(self.cart_test, self.joint_test)\n",
    "        return(np.mean(score)) # return testing accuracy\n",
    "\n",
    "    def inv_kin(self, Cartesian):\n",
    "    # query the trained inverse kinematic solver on a single Cartesian target\n",
    "        joints = self.inv_solver.predict([Cartesian])\n",
    "        [self.joint1, self.joint2] = joints[0]\n",
    "        self.direct_kin()\n",
    "        err = np.sqrt((Cartesian[0]-self.X[2])**2+(Cartesian[1]-self.Y[2])**2)\n",
    "        return(err, [self.X[2], self.Y[2]])"
   ]
  },
  {
   "cell_type": "markdown",
   "metadata": {},
   "source": [
    "Task 1\n",
    "\n",
    "A. change the network structure (number of layers and neurons), and parameters (transfer functions, learning rate, algorithms, stop conditions): how does prediction accuracy change?\n",
    "\n",
    "B. change the quantity of training data, and the joint ranges: how does that affect accuracy?\n",
    "\n",
    "Perform systematic tests on appropriate values and ranges (how do you choose them?) and report your results, answering the questions.\n",
    "\n",
    "C.\tOptional: Extend the code so that the ANN for inverse kinematics is able to control a 3 joint robot arm moving in the 3D space. Add the 3rd joint and the z axis to the forward kinematics equations. Extend the ANN to 3 inputs and 3 outputs, train it and analyse the learning performance."
   ]
  },
  {
   "cell_type": "markdown",
   "metadata": {},
   "source": [
    "# Your submission below"
   ]
  },
  {
   "cell_type": "markdown",
   "metadata": {},
   "source": [
    "# Task 1.A: Network Structure and Parameter Variation Analysis (Changing Network Structure and Parameters)"
   ]
  },
  {
   "cell_type": "markdown",
   "metadata": {},
   "source": [
    "### In this task, we explore how changing the neural network's structure (number of layers and neurons) and parameters (activation functions, learning rate, algorithms, stop conditions) affects prediction accuracy."
   ]
  },
  {
   "cell_type": "markdown",
   "metadata": {},
   "source": [
    "## Initializing the arm object"
   ]
  },
  {
   "cell_type": "code",
   "execution_count": 6,
   "metadata": {},
   "outputs": [],
   "source": [
    "# Initialize the arm object\n",
    "a = arm()"
   ]
  },
  {
   "cell_type": "markdown",
   "metadata": {},
   "source": [
    "## Hyperparameter Configuration\n"
   ]
  },
  {
   "cell_type": "code",
   "execution_count": 7,
   "metadata": {},
   "outputs": [],
   "source": [
    "# Define lists for different hyperparameters\n",
    "hidden_layer_sizes = [(100),(100,50)]\n",
    "activation_functions = ['relu', 'identity', 'tanh']\n",
    "learning_rates = ['constant', 'adaptive', 'invscaling']\n",
    "solvers = ['adam', 'lbfgs', 'sgd']\n",
    "max_iters = [500,1000]\n",
    "trial_list =[1, 2, 3]"
   ]
  },
  {
   "cell_type": "markdown",
   "metadata": {},
   "source": [
    "## Train and Test Data Configuration"
   ]
  },
  {
   "cell_type": "code",
   "execution_count": 8,
   "metadata": {},
   "outputs": [],
   "source": [
    "\n",
    "# Quantity of training data\n",
    "n_train = 1800\n",
    "n_test = 200\n",
    "\n",
    "# Joint ranges\n",
    "j1_range = (0, np.pi/2)\n",
    "j2_range = (0, np.pi)"
   ]
  },
  {
   "cell_type": "markdown",
   "metadata": {},
   "source": [
    "## Hyperparameter Tuning and Evaluation Loop\n"
   ]
  },
  {
   "cell_type": "code",
   "execution_count": null,
   "metadata": {},
   "outputs": [],
   "source": [
    "# Loop through each combination of hyperparameters and trials\n",
    "for hidden_size in hidden_layer_sizes:\n",
    "    for activation in activation_functions:\n",
    "        for solver in solvers:\n",
    "            for learning_rate in learning_rates:\n",
    "                for max_iter in max_iters:\n",
    "                    for trial in trial_list:\n",
    "                        # Initialize MLPRegressor with current hyperparameters\n",
    "                        ann = MLPRegressor(hidden_layer_sizes=hidden_size, activation=activation,\n",
    "                                           solver=solver, learning_rate=learning_rate,\n",
    "                                           max_iter=max_iter, tol=1e-4)\n",
    "                        \n",
    "                        # Create training and testing data\n",
    "                        a.create_data(ann, n_train, n_test, j1_range, j2_range)\n",
    "                        \n",
    "                        # Train the inverse kinematics solver and evaluate its performance\n",
    "                        train_accuracy = a.train_inv_kin()\n",
    "                        test_accuracy = a.test_inv_kin()\n",
    "                        \n",
    "                        # Print the results for the current trial and hyperparameters\n",
    "                        print(f\"Trial Number : {trial}, Hidden Layers: {hidden_size}, Activation: {activation}, Learning Rate: {learning_rate}, \"\n",
    "                              f\"Solver: {solver}, Max Iter: {max_iter}, \"\n",
    "                              f\"Train Accuracy: {train_accuracy:.4f}, Test Accuracy: {test_accuracy:.4f}\")"
   ]
  },
  {
   "cell_type": "markdown",
   "metadata": {},
   "source": [
    "### Observations\n",
    "By varying the network structure and parameters, we observe changes in prediction accuracy. This exploration helps us understand the impact of different configurations on the performance of the neural network-based inverse kinematics solver."
   ]
  },
  {
   "cell_type": "markdown",
   "metadata": {},
   "source": [
    "# TASK 1.B: Quantity of Training Data and Joint Range Impact Analysis"
   ]
  },
  {
   "cell_type": "markdown",
   "metadata": {},
   "source": [
    "## Data Configuration"
   ]
  },
  {
   "cell_type": "markdown",
   "metadata": {},
   "source": [
    "### Lists for different training data quantities and joint ranges are initialized.\n"
   ]
  },
  {
   "cell_type": "markdown",
   "metadata": {},
   "source": [
    "## Train and Test Data Configurations"
   ]
  },
  {
   "cell_type": "code",
   "execution_count": 9,
   "metadata": {},
   "outputs": [],
   "source": [
    "# Define Lists\n",
    "n_trains = [1000, 2000, 5000]\n",
    "n_tests = [200, 500, 1000]\n",
    "j1_ranges = [(-np.pi/4, np.pi/2), (-np.pi/2, np.pi/2), (0, np.pi)]\n",
    "j2_ranges = [(-np.pi/4, np.pi/2), (-np.pi/2, np.pi/2), (0, np.pi)]"
   ]
  },
  {
   "cell_type": "markdown",
   "metadata": {},
   "source": [
    "## Training and Testing Loop\n"
   ]
  },
  {
   "cell_type": "code",
   "execution_count": null,
   "metadata": {},
   "outputs": [],
   "source": [
    "for n_train in n_trains:\n",
    "    for n_test in n_tests:\n",
    "        for j1_range in j1_ranges:\n",
    "            for j2_range in j2_ranges:\n",
    "                # Initialize MLPRegressor with fixed hyperparameters\n",
    "                ann = MLPRegressor(hidden_layer_sizes=(100,50),\n",
    "                                   activation='relu', solver='adam', learning_rate='constant',\n",
    "                                   max_iter=2000, tol=1e-4)\n",
    "                \n",
    "                # Create training and testing data with current settings\n",
    "                a.create_data(ann, n_train, n_test, j1_range, j2_range)\n",
    "                \n",
    "                # Train the inverse kinematics solver and evaluate its performance\n",
    "                train_accuracy = a.train_inv_kin()\n",
    "                test_accuracy = a.test_inv_kin()\n",
    "                \n",
    "                # Print the results for the current configuration\n",
    "                print(f\"Training Samples: {n_train}, Test Samples: {n_test}, \"\n",
    "                      f\"Joint 1 Range: {j1_range}, Joint 2 Range: {j2_range}, \"\n",
    "                      f\"Train Accuracy: {train_accuracy:.4f}, Test Accuracy: {test_accuracy:.4f}\")\n"
   ]
  },
  {
   "cell_type": "markdown",
   "metadata": {},
   "source": [
    "# TASK 1.C: Extension to 3-Joint Robot Arm Control in 3D Space"
   ]
  },
  {
   "cell_type": "markdown",
   "metadata": {},
   "source": [
    "## Updating Forward Kinematics Function\n",
    "The forward kinematics function is modified to accommodate a three-joint spatial manipulator. It calculates the Cartesian coordinates of all link endpoints based on the joint angles and link lengths.\n",
    "\n"
   ]
  },
  {
   "cell_type": "code",
   "execution_count": null,
   "metadata": {},
   "outputs": [],
   "source": [
    "def direct_kin_(joints, links, origin = [0, 0, 0]):\n",
    "    # Implement the forward kinematics for a three-joint spatial manipulator\n",
    "    X = np.zeros(4)\n",
    "    Y = np.zeros(4)\n",
    "    Z = np.zeros(4)\n",
    "    X[0] = origin[0]\n",
    "    Y[0] = origin[1]\n",
    "    Z[0] = origin[2]\n",
    "    X[1] = X[0] + links[0] * np.cos(joints[0])\n",
    "    Y[1] = Y[0] + links[0] * np.sin(joints[0])\n",
    "    Z[1] = Z[0]\n",
    "    X[2] = X[1] + links[1] * np.cos(joints[0] + joints[1])\n",
    "    Y[2] = Y[1] + links[1] * np.sin(joints[0] + joints[1])\n",
    "    Z[2] = Z[1]\n",
    "    X[3] = X[2] + links[2] * np.cos(joints[0] + joints[1] + joints[2])\n",
    "    Y[3] = Y[2] + links[2] * np.sin(joints[0] + joints[1] + joints[2])\n",
    "    Z[3] = Z[2] + links[2] * np.sin(joints[2])\n",
    "    return [X, Y, Z]  # Return the coordinates of all link endpoints\n",
    "\n",
    "def deg2rad(degrees):\n",
    "    # Simple function for converting degrees to radians\n",
    "    return degrees * np.pi / 180"
   ]
  },
  {
   "cell_type": "markdown",
   "metadata": {},
   "source": [
    "## Updating Class Arm Definition"
   ]
  },
  {
   "cell_type": "code",
   "execution_count": null,
   "metadata": {},
   "outputs": [],
   "source": [
    "class arm():\n",
    "    ### The arm class contains all the methods for defining a three-joint spatial manipulator,\n",
    "    ### and implement a neural network inverse kinematics solver for it\n",
    "\n",
    "    def __init__(self, links = [10, 10, 10], origin = [0, 0, 0], init = [0, 0, 0]):\n",
    "        # Class constructor, defining the basic attributes of the arm and initial configuration\n",
    "        self.link1 = links[0]\n",
    "        self.link2 = links[1]\n",
    "        self.link3 = links[2]\n",
    "        self.x0 = origin[0]\n",
    "        self.y0 = origin[1]\n",
    "        self.z0 = origin[2]\n",
    "        self.joint1 = init[0]\n",
    "        self.joint2 = init[1]\n",
    "        self.joint3 = init[2]\n",
    "        self.direct_kin()\n",
    "\n",
    "    def direct_kin(self):\n",
    "        # This forward kinematic function calculates the Cartesian coordinates for the current joint configuration\n",
    "        [self.X, self.Y, self.Z] = direct_kin_([self.joint1, self.joint2, self.joint3], [self.link1, self.link2, self.link3], [self.x0, self.y0, self.z0])\n",
    "\n",
    "    def create_data(self, ann, n_train, n_test, range1, range2, range3):\n",
    "        # Prepare the training and test sets for the neural network solver\n",
    "        self.inv_solver = ann\n",
    "        n_data = n_train + n_test\n",
    "        joint_space = np.hstack((np.random.uniform(range1[0], range1[1], size=(n_data, 1)),\n",
    "                                  np.random.uniform(range2[0], range2[1], size=(n_data, 1)),\n",
    "                                  np.random.uniform(range3[0], range3[1], size=(n_data, 1))))\n",
    "        cartesian_space = np.zeros(np.shape(joint_space))\n",
    "        for i in range(len(joint_space)):\n",
    "            ax, ay, az = direct_kin_(joint_space[i], [self.link1, self.link2, self.link3])\n",
    "            cartesian_space[i] = [ax[3], ay[3], az[3]]\n",
    "        self.cart_train = np.asarray(cartesian_space[:n_train, :])\n",
    "        self.joint_train = np.asarray(joint_space[:n_train, :])\n",
    "        self.cart_test = np.asarray(cartesian_space[n_train:, :])\n",
    "        self.joint_test = np.asarray(joint_space[n_train:, :])\n",
    "\n",
    "    def train_inv_kin(self):\n",
    "        # Train the kinematic solver\n",
    "        self.inv_solver.fit(self.cart_train, self.joint_train)\n",
    "        train_score = self.inv_solver.score(self.cart_train, self.joint_train)\n",
    "        print(f\"Training accuracy: {train_score:.4f}\")\n",
    "        return train_score\n",
    "\n",
    "    def test_inv_kin(self):\n",
    "        # Test the kinematic solver\n",
    "        test_score = self.inv_solver.score(self.cart_test, self.joint_test)\n",
    "        print(f\"Testing accuracy: {test_score:.4f}\")\n",
    "        return test_score\n",
    "\n",
    "    def inv_kin(self, Cartesian):\n",
    "        # Query the trained inverse kinematic solver for a single Cartesian target\n",
    "        joints = self.inv_solver.predict([Cartesian])\n",
    "        [self.joint1, self.joint2, self.joint3] = joints[0]\n",
    "        self.direct_kin()\n",
    "        err = np.sqrt((Cartesian[0] - self.X[3])**2 + (Cartesian[1] - self.Y[3])**2 + (Cartesian[2] - self.Z[3])**2)\n",
    "        return err, [self.X[3], self.Y[3], self.Z[3]]\n"
   ]
  },
  {
   "cell_type": "markdown",
   "metadata": {},
   "source": [
    "## Example Usage\n"
   ]
  },
  {
   "cell_type": "code",
   "execution_count": null,
   "metadata": {},
   "outputs": [],
   "source": [
    "# Example usage:\n",
    "arm_instance = arm(links=[10, 10, 10], origin=[0, 0, 0], init=[0, 0, 0])\n",
    "ann = MLPRegressor(hidden_layer_sizes=(200, 175, 150, 125, 100, 75, 50, 25), activation='relu', solver='adam',learning_rate='adaptive',learning_rate_init=0.0001, max_iter=1000)\n",
    "n_train = 1000\n",
    "n_test = 200\n",
    "j1_range = (0, np.pi/2)\n",
    "j2_range = (0, np.pi)\n",
    "j3_range = (0, np.pi/2)\n",
    "arm_instance.create_data(ann, n_train, n_test, j1_range, j2_range, j3_range)\n",
    "train_accuracy = arm_instance.train_inv_kin()\n",
    "test_accuracy = arm_instance.test_inv_kin()\n"
   ]
  }
 ],
 "metadata": {
  "kernelspec": {
   "display_name": "Python 3 (ipykernel)",
   "language": "python",
   "name": "python3"
  },
  "language_info": {
   "codemirror_mode": {
    "name": "ipython",
    "version": 3
   },
   "file_extension": ".py",
   "mimetype": "text/x-python",
   "name": "python",
   "nbconvert_exporter": "python",
   "pygments_lexer": "ipython3",
   "version": "3.12.1"
  }
 },
 "nbformat": 4,
 "nbformat_minor": 4
}
